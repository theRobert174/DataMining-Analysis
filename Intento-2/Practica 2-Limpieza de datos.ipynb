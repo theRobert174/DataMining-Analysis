{
 "cells": [
  {
   "cell_type": "code",
   "execution_count": 1,
   "metadata": {},
   "outputs": [],
   "source": [
    "import pandas as pd"
   ]
  },
  {
   "cell_type": "code",
   "execution_count": 3,
   "metadata": {},
   "outputs": [],
   "source": [
    "# Se lee el contendido del archivo .csv\n",
    "data = pd.read_csv('../Data-Origin/who_suicide_statistics.csv')\n",
    "# Los datos nulos se llenan con ceros\n",
    "data = data.fillna(0)\n",
    "\n",
    "# Se especifica el tipo de dato\n",
    "data['year'] = pd.to_datetime(data['year'], format='%Y')\n",
    "\n",
    "# Se define un rango para mas de 75 anios\n",
    "data['age'] = data['age'].str.replace('75+', '75-100')\n",
    "\n",
    "# Se separa los limites de las edades en dos columnas\n",
    "data[['init_age', 'last_age']] = data['age'].str.split('-', expand=True)\n",
    "\n",
    "# Se remueve la palabra years de las columnas\n",
    "data['init_age'] = data['init_age'].str.replace(' years', '')\n",
    "data['last_age'] = data['last_age'].str.replace(' years', '')\n",
    "\n",
    "# Se elimina la vieja columna de anios\n",
    "data = data.drop(columns=['age'])\n",
    "\n",
    "# Se definen los tipos de datos\n",
    "data['init_age'] = data['init_age'].astype(int)\n",
    "data['last_age'] = data['last_age'].astype(int)\n",
    "data['suicides_no'] = data['suicides_no'].astype(int)\n",
    "data['population'] = data['population'].astype(int)\n",
    "\n",
    "# Se reorganizan las columnas \n",
    "data = data[['country','year','sex','init_age','last_age','suicides_no','population']]\n",
    "\n"
   ]
  },
  {
   "cell_type": "code",
   "execution_count": 4,
   "metadata": {},
   "outputs": [
    {
     "name": "stdout",
     "output_type": "stream",
     "text": [
      "<class 'pandas.core.frame.DataFrame'>\n",
      "RangeIndex: 43776 entries, 0 to 43775\n",
      "Data columns (total 7 columns):\n",
      " #   Column       Non-Null Count  Dtype         \n",
      "---  ------       --------------  -----         \n",
      " 0   country      43776 non-null  object        \n",
      " 1   year         43776 non-null  datetime64[ns]\n",
      " 2   sex          43776 non-null  object        \n",
      " 3   init_age     43776 non-null  int32         \n",
      " 4   last_age     43776 non-null  int32         \n",
      " 5   suicides_no  43776 non-null  int32         \n",
      " 6   population   43776 non-null  int32         \n",
      "dtypes: datetime64[ns](1), int32(4), object(2)\n",
      "memory usage: 1.7+ MB\n"
     ]
    },
    {
     "data": {
      "text/html": [
       "<div>\n",
       "<style scoped>\n",
       "    .dataframe tbody tr th:only-of-type {\n",
       "        vertical-align: middle;\n",
       "    }\n",
       "\n",
       "    .dataframe tbody tr th {\n",
       "        vertical-align: top;\n",
       "    }\n",
       "\n",
       "    .dataframe thead th {\n",
       "        text-align: right;\n",
       "    }\n",
       "</style>\n",
       "<table border=\"1\" class=\"dataframe\">\n",
       "  <thead>\n",
       "    <tr style=\"text-align: right;\">\n",
       "      <th></th>\n",
       "      <th>country</th>\n",
       "      <th>year</th>\n",
       "      <th>sex</th>\n",
       "      <th>init_age</th>\n",
       "      <th>last_age</th>\n",
       "      <th>suicides_no</th>\n",
       "      <th>population</th>\n",
       "    </tr>\n",
       "  </thead>\n",
       "  <tbody>\n",
       "    <tr>\n",
       "      <th>0</th>\n",
       "      <td>Albania</td>\n",
       "      <td>1985-01-01</td>\n",
       "      <td>female</td>\n",
       "      <td>15</td>\n",
       "      <td>24</td>\n",
       "      <td>0</td>\n",
       "      <td>277900</td>\n",
       "    </tr>\n",
       "    <tr>\n",
       "      <th>1</th>\n",
       "      <td>Albania</td>\n",
       "      <td>1985-01-01</td>\n",
       "      <td>female</td>\n",
       "      <td>25</td>\n",
       "      <td>34</td>\n",
       "      <td>0</td>\n",
       "      <td>246800</td>\n",
       "    </tr>\n",
       "    <tr>\n",
       "      <th>2</th>\n",
       "      <td>Albania</td>\n",
       "      <td>1985-01-01</td>\n",
       "      <td>female</td>\n",
       "      <td>35</td>\n",
       "      <td>54</td>\n",
       "      <td>0</td>\n",
       "      <td>267500</td>\n",
       "    </tr>\n",
       "    <tr>\n",
       "      <th>3</th>\n",
       "      <td>Albania</td>\n",
       "      <td>1985-01-01</td>\n",
       "      <td>female</td>\n",
       "      <td>5</td>\n",
       "      <td>14</td>\n",
       "      <td>0</td>\n",
       "      <td>298300</td>\n",
       "    </tr>\n",
       "    <tr>\n",
       "      <th>4</th>\n",
       "      <td>Albania</td>\n",
       "      <td>1985-01-01</td>\n",
       "      <td>female</td>\n",
       "      <td>55</td>\n",
       "      <td>74</td>\n",
       "      <td>0</td>\n",
       "      <td>138700</td>\n",
       "    </tr>\n",
       "  </tbody>\n",
       "</table>\n",
       "</div>"
      ],
      "text/plain": [
       "   country       year     sex  init_age  last_age  suicides_no  population\n",
       "0  Albania 1985-01-01  female        15        24            0      277900\n",
       "1  Albania 1985-01-01  female        25        34            0      246800\n",
       "2  Albania 1985-01-01  female        35        54            0      267500\n",
       "3  Albania 1985-01-01  female         5        14            0      298300\n",
       "4  Albania 1985-01-01  female        55        74            0      138700"
      ]
     },
     "execution_count": 4,
     "metadata": {},
     "output_type": "execute_result"
    }
   ],
   "source": [
    "data.info() # Para ver la información general de los datos\n",
    "data.head() # Para ver las primeras filas de los datos"
   ]
  },
  {
   "cell_type": "code",
   "execution_count": 5,
   "metadata": {},
   "outputs": [],
   "source": [
    "# Se genera un nuevo csv con los nuevos datos limpios\n",
    "data.to_csv('../Data-Treated/fixed_data_who_suicide.csv', index=False)"
   ]
  }
 ],
 "metadata": {
  "kernelspec": {
   "display_name": "Python 3",
   "language": "python",
   "name": "python3"
  },
  "language_info": {
   "codemirror_mode": {
    "name": "ipython",
    "version": 3
   },
   "file_extension": ".py",
   "mimetype": "text/x-python",
   "name": "python",
   "nbconvert_exporter": "python",
   "pygments_lexer": "ipython3",
   "version": "3.11.4"
  }
 },
 "nbformat": 4,
 "nbformat_minor": 2
}
