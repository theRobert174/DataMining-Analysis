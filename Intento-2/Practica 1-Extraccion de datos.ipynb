{
 "cells": [
  {
   "cell_type": "markdown",
   "metadata": {},
   "source": [
    "# Practica 1: Extraccion de datos\n",
    "# Rodrigo Antonio Martinez Macias 1896222"
   ]
  },
  {
   "cell_type": "code",
   "execution_count": 4,
   "metadata": {},
   "outputs": [],
   "source": [
    "# Usamos la libreria de Kaggle\n",
    "import kaggle\n",
    "\n",
    "# Reemplaza 'nombre-de-tu-dataset' con el nombre del dataset de Kaggle que deseas descargar\n",
    "dataset_name = 'szamil/who-suicide-statistics'\n",
    "\n",
    "# Descarga el archivo ZIP del dataset\n",
    "kaggle.api.dataset_download_files(dataset_name, path='../Data-Origin', unzip=False)\n",
    "\n",
    "import zipfile\n",
    "\n",
    "# Reemplaza 'nombre-del-archivo.zip' con el nombre del archivo ZIP descargado\n",
    "archivo_zip = 'who-suicide-statistics.zip'\n",
    "\n",
    "# Descomprime el archivo ZIP\n",
    "with zipfile.ZipFile(archivo_zip, 'r') as zip_ref:\n",
    "    zip_ref.extractall('../Data-Origin')  # Extrae los archivos en el directorio actual"
   ]
  }
 ],
 "metadata": {
  "kernelspec": {
   "display_name": "Python 3",
   "language": "python",
   "name": "python3"
  },
  "language_info": {
   "codemirror_mode": {
    "name": "ipython",
    "version": 3
   },
   "file_extension": ".py",
   "mimetype": "text/x-python",
   "name": "python",
   "nbconvert_exporter": "python",
   "pygments_lexer": "ipython3",
   "version": "3.11.4"
  }
 },
 "nbformat": 4,
 "nbformat_minor": 2
}
