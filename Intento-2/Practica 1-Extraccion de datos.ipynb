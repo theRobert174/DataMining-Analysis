{
 "cells": [
  {
   "cell_type": "markdown",
   "metadata": {},
   "source": [
    "# Practica 1: Extraccion de datos\n",
    "## Rodrigo Antonio Martinez Macias 1896222"
   ]
  },
  {
   "cell_type": "code",
   "execution_count": 1,
   "metadata": {},
   "outputs": [
    {
     "ename": "FileNotFoundError",
     "evalue": "[Errno 2] No such file or directory: 'who-suicide-statistics.zip'",
     "output_type": "error",
     "traceback": [
      "\u001b[1;31m---------------------------------------------------------------------------\u001b[0m",
      "\u001b[1;31mFileNotFoundError\u001b[0m                         Traceback (most recent call last)",
      "\u001b[1;32mc:\\Users\\rodri\\Workspaces\\Python\\Mineria_de_Datos\\DataMining-Analysis\\Intento-2\\Practica 1-Extraccion de datos.ipynb Cell 2\u001b[0m line \u001b[0;36m1\n\u001b[0;32m     <a href='vscode-notebook-cell:/c%3A/Users/rodri/Workspaces/Python/Mineria_de_Datos/DataMining-Analysis/Intento-2/Practica%201-Extraccion%20de%20datos.ipynb#W1sZmlsZQ%3D%3D?line=12'>13</a>\u001b[0m archivo_zip \u001b[39m=\u001b[39m \u001b[39m'\u001b[39m\u001b[39mwho-suicide-statistics.zip\u001b[39m\u001b[39m'\u001b[39m\n\u001b[0;32m     <a href='vscode-notebook-cell:/c%3A/Users/rodri/Workspaces/Python/Mineria_de_Datos/DataMining-Analysis/Intento-2/Practica%201-Extraccion%20de%20datos.ipynb#W1sZmlsZQ%3D%3D?line=14'>15</a>\u001b[0m \u001b[39m# Descomprime el archivo ZIP\u001b[39;00m\n\u001b[1;32m---> <a href='vscode-notebook-cell:/c%3A/Users/rodri/Workspaces/Python/Mineria_de_Datos/DataMining-Analysis/Intento-2/Practica%201-Extraccion%20de%20datos.ipynb#W1sZmlsZQ%3D%3D?line=15'>16</a>\u001b[0m \u001b[39mwith\u001b[39;00m zipfile\u001b[39m.\u001b[39;49mZipFile(archivo_zip, \u001b[39m'\u001b[39;49m\u001b[39mr\u001b[39;49m\u001b[39m'\u001b[39;49m) \u001b[39mas\u001b[39;00m zip_ref:\n\u001b[0;32m     <a href='vscode-notebook-cell:/c%3A/Users/rodri/Workspaces/Python/Mineria_de_Datos/DataMining-Analysis/Intento-2/Practica%201-Extraccion%20de%20datos.ipynb#W1sZmlsZQ%3D%3D?line=16'>17</a>\u001b[0m     zip_ref\u001b[39m.\u001b[39mextractall(\u001b[39m'\u001b[39m\u001b[39m../Data-Origin\u001b[39m\u001b[39m'\u001b[39m)  \u001b[39m# Extrae los archivos en el directorio actual\u001b[39;00m\n",
      "File \u001b[1;32mc:\\Python311\\Lib\\zipfile.py:1284\u001b[0m, in \u001b[0;36mZipFile.__init__\u001b[1;34m(self, file, mode, compression, allowZip64, compresslevel, strict_timestamps, metadata_encoding)\u001b[0m\n\u001b[0;32m   1282\u001b[0m \u001b[39mwhile\u001b[39;00m \u001b[39mTrue\u001b[39;00m:\n\u001b[0;32m   1283\u001b[0m     \u001b[39mtry\u001b[39;00m:\n\u001b[1;32m-> 1284\u001b[0m         \u001b[39mself\u001b[39m\u001b[39m.\u001b[39mfp \u001b[39m=\u001b[39m io\u001b[39m.\u001b[39;49mopen(file, filemode)\n\u001b[0;32m   1285\u001b[0m     \u001b[39mexcept\u001b[39;00m \u001b[39mOSError\u001b[39;00m:\n\u001b[0;32m   1286\u001b[0m         \u001b[39mif\u001b[39;00m filemode \u001b[39min\u001b[39;00m modeDict:\n",
      "\u001b[1;31mFileNotFoundError\u001b[0m: [Errno 2] No such file or directory: 'who-suicide-statistics.zip'"
     ]
    }
   ],
   "source": [
    "# Usamos la libreria de Kaggle\n",
    "import kaggle\n",
    "\n",
    "# Reemplaza 'nombre-de-tu-dataset' con el nombre del dataset de Kaggle que deseas descargar\n",
    "dataset_name = 'szamil/who-suicide-statistics'\n",
    "\n",
    "# Descarga el archivo ZIP del dataset\n",
    "kaggle.api.dataset_download_files(dataset_name, path='../Data-Origin', unzip=False)\n",
    "\n",
    "import zipfile\n",
    "\n",
    "# Reemplaza 'nombre-del-archivo.zip' con el nombre del archivo ZIP descargado\n",
    "archivo_zip = 'who-suicide-statistics.zip'\n",
    "\n",
    "# Descomprime el archivo ZIP\n",
    "with zipfile.ZipFile(archivo_zip, 'r') as zip_ref:\n",
    "    zip_ref.extractall('../Data-Origin')  # Extrae los archivos en el directorio actual"
   ]
  }
 ],
 "metadata": {
  "kernelspec": {
   "display_name": "Python 3",
   "language": "python",
   "name": "python3"
  },
  "language_info": {
   "codemirror_mode": {
    "name": "ipython",
    "version": 3
   },
   "file_extension": ".py",
   "mimetype": "text/x-python",
   "name": "python",
   "nbconvert_exporter": "python",
   "pygments_lexer": "ipython3",
   "version": "3.11.4"
  }
 },
 "nbformat": 4,
 "nbformat_minor": 2
}
