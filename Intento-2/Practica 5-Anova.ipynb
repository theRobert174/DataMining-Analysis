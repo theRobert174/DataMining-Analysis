{
 "cells": [
  {
   "cell_type": "markdown",
   "metadata": {},
   "source": [
    "# Practica 5 : Analisis ANOVA\n",
    "### Rodrigo Antonio Martinez Macias 1896222"
   ]
  },
  {
   "cell_type": "code",
   "execution_count": 1,
   "metadata": {},
   "outputs": [],
   "source": [
    "import pandas as pd\n",
    "import numpy as np\n",
    "import matplotlib.pyplot as plt\n",
    "import statsmodels.api as sm\n",
    "from statsmodels.formula.api import ols\n",
    "import warnings"
   ]
  },
  {
   "cell_type": "code",
   "execution_count": 2,
   "metadata": {},
   "outputs": [],
   "source": [
    "# Lee el archivo CSV\n",
    "df = pd.read_csv('../Data-Treated/fixed_data_who_suicide.csv')\n",
    "warnings.filterwarnings('ignore')"
   ]
  },
  {
   "cell_type": "code",
   "execution_count": 3,
   "metadata": {},
   "outputs": [
    {
     "name": "stdout",
     "output_type": "stream",
     "text": [
      "hay diferencias\n",
      "                sum_sq    df           F        PR(>F)\n",
      "sex       2.345333e+11   1.0  239.620069  6.564188e-25\n",
      "Residual  7.242910e+10  74.0         NaN           NaN\n"
     ]
    }
   ],
   "source": [
    "df_by_genre = df.groupby(['sex', 'year'])['suicides_no'].sum().reset_index()\n",
    "df_by_genre.reset_index(inplace=True)\n",
    "df_aux = df_by_genre.drop(['year'], axis = 1)\n",
    "\n",
    "modl = ols(\"suicides_no ~ sex\", data=df_aux).fit()\n",
    "anova_df = sm.stats.anova_lm(modl, typ=2)\n",
    "if anova_df[\"PR(>F)\"][0] < 0.005:\n",
    "    print(\"hay diferencias\")\n",
    "    print(anova_df)\n",
    "else:\n",
    "    print(\"No hay diferencias\")\n"
   ]
  }
 ],
 "metadata": {
  "kernelspec": {
   "display_name": "Python 3",
   "language": "python",
   "name": "python3"
  },
  "language_info": {
   "codemirror_mode": {
    "name": "ipython",
    "version": 3
   },
   "file_extension": ".py",
   "mimetype": "text/x-python",
   "name": "python",
   "nbconvert_exporter": "python",
   "pygments_lexer": "ipython3",
   "version": "3.11.4"
  }
 },
 "nbformat": 4,
 "nbformat_minor": 2
}
