{
 "cells": [
  {
   "cell_type": "code",
   "execution_count": 3,
   "metadata": {},
   "outputs": [],
   "source": [
    "import pandas as pd\n",
    "import matplotlib.pyplot as plt\n",
    "import seaborn as sns\n",
    "import statsmodels.api as sm"
   ]
  },
  {
   "cell_type": "code",
   "execution_count": 4,
   "metadata": {},
   "outputs": [],
   "source": [
    "# Lee el contenido del archivo y lo almacena en un dataframe\n",
    "data = pd.read_csv('../Data-Treated/fixed_data_who_suicide.csv')\n",
    "\n",
    "# Asigna el formato de fecha\n",
    "data['year'] = pd.to_datetime(data['year'])\n"
   ]
  },
  {
   "cell_type": "code",
   "execution_count": null,
   "metadata": {},
   "outputs": [],
   "source": [
    "data.info() # Para ver la información general de los datos\n",
    "data.head() # Para ver las primeras filas de los datos"
   ]
  },
  {
   "cell_type": "code",
   "execution_count": null,
   "metadata": {},
   "outputs": [],
   "source": [
    "# obtener una lista de todos los paises en el archivo\n",
    "paises = data['country'].unique()\n",
    "_sex = ['male','female']\n",
    "# print(paises)"
   ]
  },
  {
   "cell_type": "markdown",
   "metadata": {},
   "source": [
    "# Funcion que retorna todos los registro del un pais, de un genero en específico, en un rango de edad de 15-24 años"
   ]
  },
  {
   "cell_type": "code",
   "execution_count": 34,
   "metadata": {},
   "outputs": [],
   "source": [
    "def country_sex_15_24_suicides_stats(country : str, sex : str):\n",
    "\n",
    "    # Validacion estricta\n",
    "    if country not in paises:\n",
    "        raise ValueError(f\"El país '{country}' no es válido. Por favor, ingresa uno existente de los datos.\")\n",
    "\n",
    "    # Validacion estricta\n",
    "    if sex not in {'male', 'female'}:\n",
    "        raise ValueError(\" HOMBRE o MUJER!!!\")\n",
    "\n",
    "    #Se separa la data del pais y del sexo especificado por el usuario\n",
    "    filtro = (data['country'] == country) & (data['sex'] == sex) & (data['init_age'] == 15) & (data['last_age'] == 24)\n",
    "    data_filtrada = data[filtro]\n",
    "\n",
    "    #Prueba para ver el contenido\n",
    "    print(data_filtrada.to_string(index=False))\n",
    "\n",
    "    # Estadistica descriptiva\n",
    "    media = data_filtrada['suicides_no'].mean()\n",
    "    varianza = data_filtrada['suicides_no'].var()\n",
    "    desviacion_estandar = data_filtrada['suicides_no'].std()\n",
    "    maximo = data_filtrada['suicides_no'].max()\n",
    "    minimo = data_filtrada['suicides_no'].min()\n",
    "\n",
    "    # Mostrar las estadísticas\n",
    "    # print(f'Media: {media}')\n",
    "    # print(f'Varianza: {varianza}')\n",
    "    # print(f'Desviación Estándar: {desviacion_estandar}')\n",
    "    # print(f'Máximo: {maximo}')\n",
    "    # print(f'Mínimo: {minimo}')\n",
    "\n",
    "    # data_filtrada['suicides_no'].describe()\n",
    "\n",
    "    # Crear un gráfico de líneas para visualizar la evolución del número de suicidios\n",
    "\n",
    "    gender = 'hombres' if sex == 'male' else 'mujeres'\n",
    "\n",
    "    plt.figure(figsize=(10, 6))\n",
    "    plt.plot(data_filtrada['year'], data_filtrada['suicides_no'], marker='h', linestyle='-', color='b')\n",
    "    plt.title(f'Evolución del número de suicidios en {gender} (15-24 años) en {country}')\n",
    "    plt.xlabel('Año')\n",
    "    plt.ylabel('Número de suicidios')\n",
    "    plt.xticks(rotation=45)\n",
    "    plt.grid(True)\n",
    "    plt.tight_layout()\n",
    "\n",
    "    #Se guarda un nuevo CSV y PNG de los datos\n",
    "    data_filtrada.to_csv(f'../Data-Stats/{country}_{sex}_15_24_suicides.csv', index=False)\n",
    "    plt.savefig(f'../Graphs-Stats/{country}_{sex}_15_24_suicides.png')\n",
    "\n",
    "    # Mostrar el gráfico\n",
    "    # plt.show()\n",
    "    plt.close()"
   ]
  },
  {
   "cell_type": "code",
   "execution_count": 35,
   "metadata": {},
   "outputs": [
    {
     "name": "stdout",
     "output_type": "stream",
     "text": [
      "country       year  sex  init_age  last_age  suicides_no  population\n",
      " Mexico 1979-01-01 male        15        24          316     6660647\n",
      " Mexico 1980-01-01 male        15        24          254     6841567\n",
      " Mexico 1981-01-01 male        15        24          320     7281800\n",
      " Mexico 1982-01-01 male        15        24          293     7472900\n",
      " Mexico 1983-01-01 male        15        24          255     7424000\n",
      " Mexico 1984-01-01 male        15        24          209     7603748\n",
      " Mexico 1985-01-01 male        15        24          375     8420000\n",
      " Mexico 1986-01-01 male        15        24          408     8614300\n",
      " Mexico 1987-01-01 male        15        24          405     8726000\n",
      " Mexico 1988-01-01 male        15        24          418     9021000\n",
      " Mexico 1989-01-01 male        15        24          472     9284000\n",
      " Mexico 1990-01-01 male        15        24          472     9501000\n",
      " Mexico 1991-01-01 male        15        24          560     9666000\n",
      " Mexico 1992-01-01 male        15        24          554     9572400\n",
      " Mexico 1993-01-01 male        15        24          582     9745400\n",
      " Mexico 1994-01-01 male        15        24          646     9882000\n",
      " Mexico 1995-01-01 male        15        24          755     9978800\n",
      " Mexico 1996-01-01 male        15        24          771    10461846\n",
      " Mexico 1997-01-01 male        15        24          931    10469891\n",
      " Mexico 1998-01-01 male        15        24          860    10444415\n",
      " Mexico 1999-01-01 male        15        24          940    10416842\n",
      " Mexico 2000-01-01 male        15        24          870    10407812\n",
      " Mexico 2001-01-01 male        15        24          908    10392763\n",
      " Mexico 2002-01-01 male        15        24          919    10391176\n",
      " Mexico 2003-01-01 male        15        24          953    10408446\n",
      " Mexico 2004-01-01 male        15        24          942    10447031\n",
      " Mexico 2005-01-01 male        15        24          943    10509381\n",
      " Mexico 2006-01-01 male        15        24          926    10624582\n",
      " Mexico 2007-01-01 male        15        24          910    10761087\n",
      " Mexico 2008-01-01 male        15        24          997    10909870\n",
      " Mexico 2009-01-01 male        15        24         1032    11057116\n",
      " Mexico 2010-01-01 male        15        24         1074    11192708\n",
      " Mexico 2011-01-01 male        15        24         1308    11318362\n",
      " Mexico 2012-01-01 male        15        24         1251    11427075\n",
      " Mexico 2013-01-01 male        15        24         1220    11520698\n",
      " Mexico 2014-01-01 male        15        24         1334    11603241\n",
      " Mexico 2015-01-01 male        15        24         1347    11676480\n",
      "country       year    sex  init_age  last_age  suicides_no  population\n",
      " Mexico 1979-01-01 female        15        24          121     6670736\n",
      " Mexico 1980-01-01 female        15        24           90     6853170\n",
      " Mexico 1981-01-01 female        15        24          117     7102000\n",
      " Mexico 1982-01-01 female        15        24          120     7288500\n",
      " Mexico 1983-01-01 female        15        24           80     7313000\n",
      " Mexico 1984-01-01 female        15        24           59     7638980\n",
      " Mexico 1985-01-01 female        15        24          107     8211000\n",
      " Mexico 1986-01-01 female        15        24          117     8400500\n",
      " Mexico 1987-01-01 female        15        24          113     8559000\n",
      " Mexico 1988-01-01 female        15        24          118     8850000\n",
      " Mexico 1989-01-01 female        15        24           96     9111000\n",
      " Mexico 1990-01-01 female        15        24          114     9327000\n",
      " Mexico 1991-01-01 female        15        24          113     9492000\n",
      " Mexico 1992-01-01 female        15        24          126     9605800\n",
      " Mexico 1993-01-01 female        15        24          126     9764500\n",
      " Mexico 1994-01-01 female        15        24          168     9886600\n",
      " Mexico 1995-01-01 female        15        24          198     9970200\n",
      " Mexico 1996-01-01 female        15        24          217    10401655\n",
      " Mexico 1997-01-01 female        15        24          255    10389836\n",
      " Mexico 1998-01-01 female        15        24          227    10340767\n",
      " Mexico 1999-01-01 female        15        24          211    10286270\n",
      " Mexico 2000-01-01 female        15        24          231    10247321\n",
      " Mexico 2001-01-01 female        15        24          263    10198732\n",
      " Mexico 2002-01-01 female        15        24          260    10166352\n",
      " Mexico 2003-01-01 female        15        24          280    10156204\n",
      " Mexico 2004-01-01 female        15        24          238    10169971\n",
      " Mexico 2005-01-01 female        15        24          272    10208805\n",
      " Mexico 2006-01-01 female        15        24          287    10309008\n",
      " Mexico 2007-01-01 female        15        24          272    10427676\n",
      " Mexico 2008-01-01 female        15        24          325    10559325\n",
      " Mexico 2009-01-01 female        15        24          359    10695396\n",
      " Mexico 2010-01-01 female        15        24          350    10827976\n",
      " Mexico 2011-01-01 female        15        24          439    10955599\n",
      " Mexico 2012-01-01 female        15        24          407    11076558\n",
      " Mexico 2013-01-01 female        15        24          392    11186604\n",
      " Mexico 2014-01-01 female        15        24          416    11280468\n",
      " Mexico 2015-01-01 female        15        24          484    11354811\n"
     ]
    }
   ],
   "source": [
    "country_sex_15_24_suicides_stats('Mexico', 'male')\n",
    "country_sex_15_24_suicides_stats('Mexico', 'female')"
   ]
  },
  {
   "cell_type": "markdown",
   "metadata": {},
   "source": [
    "# No ejecutar esta linea a menos que quieras que tu equipo se congele y llene de archivos!!!!"
   ]
  },
  {
   "cell_type": "code",
   "execution_count": null,
   "metadata": {},
   "outputs": [],
   "source": [
    "[country_sex_15_24_suicides_stats(pais, sex) for pais in paises for sex in _sex]"
   ]
  }
 ],
 "metadata": {
  "kernelspec": {
   "display_name": "Python 3",
   "language": "python",
   "name": "python3"
  },
  "language_info": {
   "codemirror_mode": {
    "name": "ipython",
    "version": 3
   },
   "file_extension": ".py",
   "mimetype": "text/x-python",
   "name": "python",
   "nbconvert_exporter": "python",
   "pygments_lexer": "ipython3",
   "version": "3.11.4"
  }
 },
 "nbformat": 4,
 "nbformat_minor": 2
}
